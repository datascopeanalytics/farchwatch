{
 "metadata": {
  "name": "",
  "signature": "sha256:dfc1ace77f93f277fa815a58a99090274207f1a6cb9fcb591414f98b676a5137"
 },
 "nbformat": 3,
 "nbformat_minor": 0,
 "worksheets": []
}